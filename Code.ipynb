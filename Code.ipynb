{
 "cells": [
  {
   "cell_type": "code",
   "execution_count": 1,
   "id": "b1d516b0",
   "metadata": {},
   "outputs": [],
   "source": [
    "# Morse code dictionary\n",
    "morse_code = {\n",
    "    'A': '.-', 'B': '-...', 'C': '-.-.', 'D': '-..', 'E': '.', 'F': '..-.', 'G': '--.', 'H': '....',\n",
    "    'I': '..', 'J': '.---', 'K': '-.-', 'L': '.-..', 'M': '--', 'N': '-.', 'O': '---', 'P': '.--.',\n",
    "    'Q': '--.-', 'R': '.-.', 'S': '...', 'T': '-', 'U': '..-', 'V': '...-', 'W': '.--', 'X': '-..-',\n",
    "    'Y': '-.--', 'Z': '--..', '0': '-----', '1': '.----', '2': '..---', '3': '...--', '4': '....-',\n",
    "    '5': '.....', '6': '-....', '7': '--...', '8': '---..', '9': '----.', '.': '.-.-.-', ',': '--..--',\n",
    "    '?': '..--..', \"'\": '.----.', '!': '-.-.--', '/': '-..-.', '(': '-.--.', ')': '-.--.-', '&': '.-...',\n",
    "    ':': '---...', ';': '-.-.-.', '=': '-...-', '+': '.-.-.', '-': '-....-', '_': '..--.-', '\"': '.-..-.',\n",
    "    '$': '...-..-', '@': '.--.-.'\n",
    "}"
   ]
  },
  {
   "cell_type": "code",
   "execution_count": 2,
   "id": "57c104fd",
   "metadata": {},
   "outputs": [],
   "source": [
    "def text_to_morse(text):\n",
    "    morse_result = ''\n",
    "    for char in text.upper(): \n",
    "        if char in morse_code:\n",
    "            morse_result += morse_code[char] + ' '  \n",
    "        else:\n",
    "            morse_result += ' '  \n",
    "    return morse_result.strip()  "
   ]
  },
  {
   "cell_type": "code",
   "execution_count": 3,
   "id": "646bd57d",
   "metadata": {},
   "outputs": [
    {
     "name": "stdout",
     "output_type": "stream",
     "text": [
      "Enter the text to convert to Morse code: Harshini\n"
     ]
    }
   ],
   "source": [
    "# Input text\n",
    "input_text = input(\"Enter the text to convert to Morse code: \")"
   ]
  },
  {
   "cell_type": "code",
   "execution_count": 4,
   "id": "96145871",
   "metadata": {},
   "outputs": [],
   "source": [
    "# Convert text to Morse code\n",
    "morse_output = text_to_morse(input_text)"
   ]
  },
  {
   "cell_type": "code",
   "execution_count": 5,
   "id": "90bdb054",
   "metadata": {},
   "outputs": [
    {
     "name": "stdout",
     "output_type": "stream",
     "text": [
      "Morse Code for 'Harshini':\n",
      ".... .- .-. ... .... .. -. ..\n"
     ]
    }
   ],
   "source": [
    "# Display Morse code result\n",
    "print(f\"Morse Code for '{input_text}':\")\n",
    "print(morse_output)"
   ]
  }
 ],
 "metadata": {
  "kernelspec": {
   "display_name": "Python 3 (ipykernel)",
   "language": "python",
   "name": "python3"
  },
  "language_info": {
   "codemirror_mode": {
    "name": "ipython",
    "version": 3
   },
   "file_extension": ".py",
   "mimetype": "text/x-python",
   "name": "python",
   "nbconvert_exporter": "python",
   "pygments_lexer": "ipython3",
   "version": "3.11.0"
  }
 },
 "nbformat": 4,
 "nbformat_minor": 5
}
